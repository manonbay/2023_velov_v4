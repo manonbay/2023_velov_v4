{
 "cells": [
  {
   "cell_type": "markdown",
   "metadata": {},
   "source": [
    "# Import"
   ]
  },
  {
   "cell_type": "code",
   "execution_count": null,
   "metadata": {},
   "outputs": [],
   "source": [
    "import re\n",
    "import json\n",
    "import requests\n",
    "import numpy as np\n",
    "import pandas as pd\n",
    "import matplotlib.pyplot as plt\n",
    "import matplotlib.dates as mdates\n",
    "from matplotlib.dates import DateFormatter, HourLocator\n",
    "import seaborn as sns\n",
    "from datetime import datetime\n",
    "from datetime import timedelta\n",
    "from calendar import monthrange\n",
    "import plotly.express as px\n",
    "import plotly.graph_objects as go\n",
    "pd.options.mode.chained_assignment = None  # default='warn'\n",
    "fevrier = pd.read_csv(r\"C:\\Users\\manon\\Dev\\Projet3_velov\\2023-02-allege15min.csv\", index_col=0)\n",
    "bornes_velov = pd.read_csv(r\"C:\\Users\\manon\\Dev\\Projet3_velov\\bornes_velov_clean.csv\")\n",
    "fevrier.reset_index(inplace=True)\n",
    "\n",
    "## df 1er fevrier 2023\n",
    "premierfevrier = fevrier[fevrier[\"horodate\"] < \"2023-02-02\"]\n",
    "premierfevrier = premierfevrier.merge(bornes_velov, how=\"left\", on=\"number\")\n",
    "premierfevrier[\"horodate\"]= pd.to_datetime(fevrier[\"horodate\"])\n"
   ]
  },
  {
   "cell_type": "markdown",
   "metadata": {},
   "source": [
    "# Matplotlib"
   ]
  },
  {
   "cell_type": "code",
   "execution_count": null,
   "metadata": {},
   "outputs": [
    {
     "data": {
      "text/html": [
       "<div>\n",
       "<style scoped>\n",
       "    .dataframe tbody tr th:only-of-type {\n",
       "        vertical-align: middle;\n",
       "    }\n",
       "\n",
       "    .dataframe tbody tr th {\n",
       "        vertical-align: top;\n",
       "    }\n",
       "\n",
       "    .dataframe thead th {\n",
       "        text-align: right;\n",
       "    }\n",
       "</style>\n",
       "<table border=\"1\" class=\"dataframe\">\n",
       "  <thead>\n",
       "    <tr style=\"text-align: right;\">\n",
       "      <th></th>\n",
       "      <th>horodate</th>\n",
       "      <th>heure_exacte</th>\n",
       "      <th>number</th>\n",
       "      <th>availabilities.all.types</th>\n",
       "      <th>availabilities.electricalBikes</th>\n",
       "      <th>availabilities.stands</th>\n",
       "      <th>capacity</th>\n",
       "      <th>name</th>\n",
       "      <th>address</th>\n",
       "      <th>coordonnees</th>\n",
       "      <th>latitude</th>\n",
       "      <th>longitude</th>\n",
       "    </tr>\n",
       "  </thead>\n",
       "  <tbody>\n",
       "    <tr>\n",
       "      <th>0</th>\n",
       "      <td>2023-02-01 00:04:30+01:00</td>\n",
       "      <td>2023-02-01 00:04:30+01:00</td>\n",
       "      <td>555</td>\n",
       "      <td>0</td>\n",
       "      <td>0</td>\n",
       "      <td>3</td>\n",
       "      <td>5</td>\n",
       "      <td>0-555 - ATELIER VÉLO'V</td>\n",
       "      <td>NaN</td>\n",
       "      <td>['45.780403', '4.904869']</td>\n",
       "      <td>45.780403</td>\n",
       "      <td>4.904869</td>\n",
       "    </tr>\n",
       "  </tbody>\n",
       "</table>\n",
       "</div>"
      ],
      "text/plain": [
       "                   horodate               heure_exacte  number  \\\n",
       "0 2023-02-01 00:04:30+01:00  2023-02-01 00:04:30+01:00     555   \n",
       "\n",
       "   availabilities.all.types  availabilities.electricalBikes  \\\n",
       "0                         0                               0   \n",
       "\n",
       "   availabilities.stands  capacity                    name address  \\\n",
       "0                      3         5  0-555 - ATELIER VÉLO'V     NaN   \n",
       "\n",
       "                 coordonnees   latitude  longitude  \n",
       "0  ['45.780403', '4.904869']  45.780403   4.904869  "
      ]
     },
     "metadata": {},
     "output_type": "display_data"
    }
   ],
   "source": [
    "premierfevrier.head(1)"
   ]
  },
  {
   "cell_type": "code",
   "execution_count": null,
   "metadata": {},
   "outputs": [
    {
     "data": {
      "text/plain": [
       "array([  5,  10,  11,  12,  13,  14,  15,  16,  17,  18,  19,  20,  21,\n",
       "        22,  23,  24,  25,  26,  27,  28,  30,  31,  32,  33,  34,  35,\n",
       "        36,  37,  38,  39,  40,  41,  46,  50,  59,  94,  95, 115],\n",
       "      dtype=int64)"
      ]
     },
     "metadata": {},
     "output_type": "display_data"
    }
   ],
   "source": [
    "# récupération des numéros de station selon leur capacité \n",
    "premierfevrier[\"capacity\"].sort_values().unique()"
   ]
  },
  {
   "cell_type": "code",
   "execution_count": null,
   "metadata": {},
   "outputs": [
    {
     "data": {
      "text/plain": [
       "array([ 2041,  3013,  3037,  4022,  5041,  6035,  7024,  8004, 10018,\n",
       "       10036, 10122], dtype=int64)"
      ]
     },
     "metadata": {},
     "output_type": "display_data"
    }
   ],
   "source": [
    "premierfevrier[\"number\"][(premierfevrier[\"capacity\"]== 21) | (premierfevrier[\"capacity\"]== 35) |(premierfevrier[\"capacity\"]== 115)].unique()"
   ]
  },
  {
   "cell_type": "code",
   "execution_count": null,
   "metadata": {},
   "outputs": [
    {
     "data": {
      "text/html": [
       "<div>\n",
       "<style scoped>\n",
       "    .dataframe tbody tr th:only-of-type {\n",
       "        vertical-align: middle;\n",
       "    }\n",
       "\n",
       "    .dataframe tbody tr th {\n",
       "        vertical-align: top;\n",
       "    }\n",
       "\n",
       "    .dataframe thead th {\n",
       "        text-align: right;\n",
       "    }\n",
       "</style>\n",
       "<table border=\"1\" class=\"dataframe\">\n",
       "  <thead>\n",
       "    <tr style=\"text-align: right;\">\n",
       "      <th></th>\n",
       "      <th>horodate</th>\n",
       "      <th>heure_exacte</th>\n",
       "      <th>number</th>\n",
       "      <th>availabilities.all.types</th>\n",
       "      <th>availabilities.electricalBikes</th>\n",
       "      <th>availabilities.stands</th>\n",
       "      <th>capacity</th>\n",
       "      <th>name</th>\n",
       "      <th>address</th>\n",
       "      <th>coordonnees</th>\n",
       "      <th>latitude</th>\n",
       "      <th>longitude</th>\n",
       "    </tr>\n",
       "  </thead>\n",
       "  <tbody>\n",
       "    <tr>\n",
       "      <th>23305</th>\n",
       "      <td>2023-02-01 00:00:56+01:00</td>\n",
       "      <td>2023-02-01 00:00:56+01:00</td>\n",
       "      <td>8004</td>\n",
       "      <td>12</td>\n",
       "      <td>10</td>\n",
       "      <td>9</td>\n",
       "      <td>21</td>\n",
       "      <td>8004 - MAIRIE DU 8E</td>\n",
       "      <td>Devant la mairie du 8e</td>\n",
       "      <td>['45.735158', '4.872803']</td>\n",
       "      <td>45.735158</td>\n",
       "      <td>4.872803</td>\n",
       "    </tr>\n",
       "  </tbody>\n",
       "</table>\n",
       "</div>"
      ],
      "text/plain": [
       "                       horodate               heure_exacte  number  \\\n",
       "23305 2023-02-01 00:00:56+01:00  2023-02-01 00:00:56+01:00    8004   \n",
       "\n",
       "       availabilities.all.types  availabilities.electricalBikes  \\\n",
       "23305                        12                              10   \n",
       "\n",
       "       availabilities.stands  capacity                 name  \\\n",
       "23305                      9        21  8004 - MAIRIE DU 8E   \n",
       "\n",
       "                      address                coordonnees   latitude  longitude  \n",
       "23305  Devant la mairie du 8e  ['45.735158', '4.872803']  45.735158   4.872803  "
      ]
     },
     "metadata": {},
     "output_type": "display_data"
    }
   ],
   "source": [
    "premierfevrier[premierfevrier[\"number\"]==8004].head(1)"
   ]
  },
  {
   "cell_type": "code",
   "execution_count": null,
   "metadata": {},
   "outputs": [],
   "source": [
    "liste_stations = [10018, 10002, 8004]\n",
    "sta_10018 =premierfevrier[premierfevrier[\"number\"]==10018]\n",
    "sta_10002 =premierfevrier[premierfevrier[\"number\"]==10002]\n",
    "sta_8004 =premierfevrier[premierfevrier[\"number\"]==8004]"
   ]
  },
  {
   "cell_type": "markdown",
   "metadata": {},
   "source": [
    "## Graph .plt"
   ]
  },
  {
   "cell_type": "code",
   "execution_count": null,
   "metadata": {},
   "outputs": [
    {
     "data": {
      "image/png": "[encoded data removed]",
      "text/plain": [
       "<Figure size 640x480 with 3 Axes>"
      ]
     },
     "metadata": {},
     "output_type": "display_data"
    }
   ],
   "source": [
    "fig, ax = plt.subplots(3,1)\n",
    "# Pour formater la date d'une certaine manière sur tous les graphs dans le set_major_formatter\n",
    "date_form = DateFormatter(\"%H\")\n",
    "\n",
    "ax1=plt.subplot(311)\n",
    "sns.lineplot(data=sta_10002, x=\"horodate\", y=\"availabilities.all.types\", color=\"pink\")\n",
    "ax1.set_ylim(0, 115)\n",
    "ax1.set_title(\"10002 - INSA\")\n",
    "plt.ylabel(\"Capacité = 115\")\n",
    "plt.xlabel(\"\")\n",
    "plt.tick_params(labelrotation=90)\n",
    "ax1.xaxis.set_major_formatter(date_form)\n",
    "ax1.xaxis.set_major_locator(mdates.HourLocator())\n",
    "\n",
    "ax2=plt.subplot(312)\n",
    "sns.lineplot(data=sta_8004, x=\"horodate\", y=\"availabilities.all.types\", color=\"grey\")\n",
    "ax2.set_ylim(0, 23)\n",
    "ax2.set_title(\"8004 - MAIRIE DU 8E\")\n",
    "plt.ylabel(\"Capacité = 21\")\n",
    "plt.xlabel(\"\")\n",
    "plt.tick_params(labelrotation=90)\n",
    "ax2.xaxis.set_major_formatter(date_form)\n",
    "ax2.xaxis.set_major_locator(mdates.HourLocator())\n",
    "\n",
    "ax3=plt.subplot(313)\n",
    "sns.lineplot(data=sta_10018, x=\"horodate\", y=\"availabilities.all.types\", color=\"green\")\n",
    "ax3.set_ylim(0, 23)\n",
    "ax3.set_title(\"10018 - TOLSTOÏ / FLORIAN\")\n",
    "plt.ylabel(\"Capacité = 21\")\n",
    "plt.xlabel(\"\")\n",
    "plt.tick_params(labelrotation=90)\n",
    "ax3.xaxis.set_major_formatter(date_form)\n",
    "ax3.xaxis.set_major_locator(mdates.HourLocator())\n",
    "\n",
    "fig.suptitle(\"Remplissage de différentes stations selon les heures\", fontsize=20)\n",
    "fig.tight_layout()\n",
    "plt.show()"
   ]
  },
  {
   "cell_type": "markdown",
   "metadata": {},
   "source": [
    "# Plotly"
   ]
  },
  {
   "cell_type": "code",
   "execution_count": null,
   "metadata": {},
   "outputs": [
    {
     "data": {
      "text/html": [
       "<div>\n",
       "<style scoped>\n",
       "    .dataframe tbody tr th:only-of-type {\n",
       "        vertical-align: middle;\n",
       "    }\n",
       "\n",
       "    .dataframe tbody tr th {\n",
       "        vertical-align: top;\n",
       "    }\n",
       "\n",
       "    .dataframe thead th {\n",
       "        text-align: right;\n",
       "    }\n",
       "</style>\n",
       "<table border=\"1\" class=\"dataframe\">\n",
       "  <thead>\n",
       "    <tr style=\"text-align: right;\">\n",
       "      <th></th>\n",
       "      <th>horodate</th>\n",
       "      <th>heure_exacte</th>\n",
       "      <th>number</th>\n",
       "      <th>availabilities.all.types</th>\n",
       "      <th>availabilities.electricalBikes</th>\n",
       "      <th>availabilities.stands</th>\n",
       "      <th>capacity</th>\n",
       "      <th>name</th>\n",
       "      <th>address</th>\n",
       "      <th>coordonnees</th>\n",
       "      <th>latitude</th>\n",
       "      <th>longitude</th>\n",
       "    </tr>\n",
       "  </thead>\n",
       "  <tbody>\n",
       "    <tr>\n",
       "      <th>0</th>\n",
       "      <td>2023-02-01 00:04:30+01:00</td>\n",
       "      <td>2023-02-01 00:04:30+01:00</td>\n",
       "      <td>555</td>\n",
       "      <td>0</td>\n",
       "      <td>0</td>\n",
       "      <td>3</td>\n",
       "      <td>5</td>\n",
       "      <td>0-555 - ATELIER VÉLO'V</td>\n",
       "      <td>NaN</td>\n",
       "      <td>['45.780403', '4.904869']</td>\n",
       "      <td>45.780403</td>\n",
       "      <td>4.904869</td>\n",
       "    </tr>\n",
       "    <tr>\n",
       "      <th>1</th>\n",
       "      <td>2023-02-01 00:19:30+01:00</td>\n",
       "      <td>2023-02-01 00:24:41+01:00</td>\n",
       "      <td>555</td>\n",
       "      <td>0</td>\n",
       "      <td>0</td>\n",
       "      <td>3</td>\n",
       "      <td>5</td>\n",
       "      <td>0-555 - ATELIER VÉLO'V</td>\n",
       "      <td>NaN</td>\n",
       "      <td>['45.780403', '4.904869']</td>\n",
       "      <td>45.780403</td>\n",
       "      <td>4.904869</td>\n",
       "    </tr>\n",
       "    <tr>\n",
       "      <th>2</th>\n",
       "      <td>2023-02-01 00:34:30+01:00</td>\n",
       "      <td>2023-02-01 00:34:46+01:00</td>\n",
       "      <td>555</td>\n",
       "      <td>0</td>\n",
       "      <td>0</td>\n",
       "      <td>3</td>\n",
       "      <td>5</td>\n",
       "      <td>0-555 - ATELIER VÉLO'V</td>\n",
       "      <td>NaN</td>\n",
       "      <td>['45.780403', '4.904869']</td>\n",
       "      <td>45.780403</td>\n",
       "      <td>4.904869</td>\n",
       "    </tr>\n",
       "    <tr>\n",
       "      <th>3</th>\n",
       "      <td>2023-02-01 00:49:30+01:00</td>\n",
       "      <td>2023-02-01 00:54:57+01:00</td>\n",
       "      <td>555</td>\n",
       "      <td>0</td>\n",
       "      <td>0</td>\n",
       "      <td>3</td>\n",
       "      <td>5</td>\n",
       "      <td>0-555 - ATELIER VÉLO'V</td>\n",
       "      <td>NaN</td>\n",
       "      <td>['45.780403', '4.904869']</td>\n",
       "      <td>45.780403</td>\n",
       "      <td>4.904869</td>\n",
       "    </tr>\n",
       "    <tr>\n",
       "      <th>4</th>\n",
       "      <td>2023-02-01 01:04:30+01:00</td>\n",
       "      <td>2023-02-01 01:05:02+01:00</td>\n",
       "      <td>555</td>\n",
       "      <td>0</td>\n",
       "      <td>0</td>\n",
       "      <td>3</td>\n",
       "      <td>5</td>\n",
       "      <td>0-555 - ATELIER VÉLO'V</td>\n",
       "      <td>NaN</td>\n",
       "      <td>['45.780403', '4.904869']</td>\n",
       "      <td>45.780403</td>\n",
       "      <td>4.904869</td>\n",
       "    </tr>\n",
       "    <tr>\n",
       "      <th>...</th>\n",
       "      <td>...</td>\n",
       "      <td>...</td>\n",
       "      <td>...</td>\n",
       "      <td>...</td>\n",
       "      <td>...</td>\n",
       "      <td>...</td>\n",
       "      <td>...</td>\n",
       "      <td>...</td>\n",
       "      <td>...</td>\n",
       "      <td>...</td>\n",
       "      <td>...</td>\n",
       "      <td>...</td>\n",
       "    </tr>\n",
       "    <tr>\n",
       "      <th>41140</th>\n",
       "      <td>2023-02-01 22:50:59+01:00</td>\n",
       "      <td>2023-02-01 22:56:33+01:00</td>\n",
       "      <td>34002</td>\n",
       "      <td>7</td>\n",
       "      <td>3</td>\n",
       "      <td>8</td>\n",
       "      <td>15</td>\n",
       "      <td>34002 - NEUVILLE - STADE</td>\n",
       "      <td>NaN</td>\n",
       "      <td>['45.870877', '4.839595']</td>\n",
       "      <td>45.870877</td>\n",
       "      <td>4.839595</td>\n",
       "    </tr>\n",
       "    <tr>\n",
       "      <th>41141</th>\n",
       "      <td>2023-02-01 23:05:59+01:00</td>\n",
       "      <td>2023-02-01 23:06:38+01:00</td>\n",
       "      <td>34002</td>\n",
       "      <td>7</td>\n",
       "      <td>3</td>\n",
       "      <td>8</td>\n",
       "      <td>15</td>\n",
       "      <td>34002 - NEUVILLE - STADE</td>\n",
       "      <td>NaN</td>\n",
       "      <td>['45.870877', '4.839595']</td>\n",
       "      <td>45.870877</td>\n",
       "      <td>4.839595</td>\n",
       "    </tr>\n",
       "    <tr>\n",
       "      <th>41142</th>\n",
       "      <td>2023-02-01 23:20:59+01:00</td>\n",
       "      <td>2023-02-01 23:26:45+01:00</td>\n",
       "      <td>34002</td>\n",
       "      <td>7</td>\n",
       "      <td>3</td>\n",
       "      <td>8</td>\n",
       "      <td>15</td>\n",
       "      <td>34002 - NEUVILLE - STADE</td>\n",
       "      <td>NaN</td>\n",
       "      <td>['45.870877', '4.839595']</td>\n",
       "      <td>45.870877</td>\n",
       "      <td>4.839595</td>\n",
       "    </tr>\n",
       "    <tr>\n",
       "      <th>41143</th>\n",
       "      <td>2023-02-01 23:35:59+01:00</td>\n",
       "      <td>2023-02-01 23:36:49+01:00</td>\n",
       "      <td>34002</td>\n",
       "      <td>7</td>\n",
       "      <td>3</td>\n",
       "      <td>8</td>\n",
       "      <td>15</td>\n",
       "      <td>34002 - NEUVILLE - STADE</td>\n",
       "      <td>NaN</td>\n",
       "      <td>['45.870877', '4.839595']</td>\n",
       "      <td>45.870877</td>\n",
       "      <td>4.839595</td>\n",
       "    </tr>\n",
       "    <tr>\n",
       "      <th>41144</th>\n",
       "      <td>2023-02-01 23:50:59+01:00</td>\n",
       "      <td>2023-02-01 23:56:57+01:00</td>\n",
       "      <td>34002</td>\n",
       "      <td>7</td>\n",
       "      <td>3</td>\n",
       "      <td>8</td>\n",
       "      <td>15</td>\n",
       "      <td>34002 - NEUVILLE - STADE</td>\n",
       "      <td>NaN</td>\n",
       "      <td>['45.870877', '4.839595']</td>\n",
       "      <td>45.870877</td>\n",
       "      <td>4.839595</td>\n",
       "    </tr>\n",
       "  </tbody>\n",
       "</table>\n",
       "<p>41145 rows × 12 columns</p>\n",
       "</div>"
      ],
      "text/plain": [
       "                       horodate               heure_exacte  number  \\\n",
       "0     2023-02-01 00:04:30+01:00  2023-02-01 00:04:30+01:00     555   \n",
       "1     2023-02-01 00:19:30+01:00  2023-02-01 00:24:41+01:00     555   \n",
       "2     2023-02-01 00:34:30+01:00  2023-02-01 00:34:46+01:00     555   \n",
       "3     2023-02-01 00:49:30+01:00  2023-02-01 00:54:57+01:00     555   \n",
       "4     2023-02-01 01:04:30+01:00  2023-02-01 01:05:02+01:00     555   \n",
       "...                         ...                        ...     ...   \n",
       "41140 2023-02-01 22:50:59+01:00  2023-02-01 22:56:33+01:00   34002   \n",
       "41141 2023-02-01 23:05:59+01:00  2023-02-01 23:06:38+01:00   34002   \n",
       "41142 2023-02-01 23:20:59+01:00  2023-02-01 23:26:45+01:00   34002   \n",
       "41143 2023-02-01 23:35:59+01:00  2023-02-01 23:36:49+01:00   34002   \n",
       "41144 2023-02-01 23:50:59+01:00  2023-02-01 23:56:57+01:00   34002   \n",
       "\n",
       "       availabilities.all.types  availabilities.electricalBikes  \\\n",
       "0                             0                               0   \n",
       "1                             0                               0   \n",
       "2                             0                               0   \n",
       "3                             0                               0   \n",
       "4                             0                               0   \n",
       "...                         ...                             ...   \n",
       "41140                         7                               3   \n",
       "41141                         7                               3   \n",
       "41142                         7                               3   \n",
       "41143                         7                               3   \n",
       "41144                         7                               3   \n",
       "\n",
       "       availabilities.stands  capacity                      name address  \\\n",
       "0                          3         5    0-555 - ATELIER VÉLO'V     NaN   \n",
       "1                          3         5    0-555 - ATELIER VÉLO'V     NaN   \n",
       "2                          3         5    0-555 - ATELIER VÉLO'V     NaN   \n",
       "3                          3         5    0-555 - ATELIER VÉLO'V     NaN   \n",
       "4                          3         5    0-555 - ATELIER VÉLO'V     NaN   \n",
       "...                      ...       ...                       ...     ...   \n",
       "41140                      8        15  34002 - NEUVILLE - STADE     NaN   \n",
       "41141                      8        15  34002 - NEUVILLE - STADE     NaN   \n",
       "41142                      8        15  34002 - NEUVILLE - STADE     NaN   \n",
       "41143                      8        15  34002 - NEUVILLE - STADE     NaN   \n",
       "41144                      8        15  34002 - NEUVILLE - STADE     NaN   \n",
       "\n",
       "                     coordonnees   latitude  longitude  \n",
       "0      ['45.780403', '4.904869']  45.780403   4.904869  \n",
       "1      ['45.780403', '4.904869']  45.780403   4.904869  \n",
       "2      ['45.780403', '4.904869']  45.780403   4.904869  \n",
       "3      ['45.780403', '4.904869']  45.780403   4.904869  \n",
       "4      ['45.780403', '4.904869']  45.780403   4.904869  \n",
       "...                          ...        ...        ...  \n",
       "41140  ['45.870877', '4.839595']  45.870877   4.839595  \n",
       "41141  ['45.870877', '4.839595']  45.870877   4.839595  \n",
       "41142  ['45.870877', '4.839595']  45.870877   4.839595  \n",
       "41143  ['45.870877', '4.839595']  45.870877   4.839595  \n",
       "41144  ['45.870877', '4.839595']  45.870877   4.839595  \n",
       "\n",
       "[41145 rows x 12 columns]"
      ]
     },
     "metadata": {},
     "output_type": "display_data"
    }
   ],
   "source": [
    "premierfevrier"
   ]
  },
  {
   "cell_type": "code",
   "execution_count": null,
   "metadata": {},
   "outputs": [
    {
     "data": {
      "application/vnd.plotly.v1+json": {
       "config": {
        "plotlyServerURL": "https://plot.ly"
       },
       "data": [
        {
         "hovertemplate": "n° de station=8004<br>heure=%{x}<br>vélos disponibles=%{y}<extra></extra>",
         "legendgroup": "8004",
         "line": {
          "color": "grey",
          "dash": "solid"
         },
         "marker": {
          "symbol": "circle"
         },
         "mode": "lines",
         "name": "8004",
         "orientation": "v",
         "showlegend": true,
         "type": "scatter",
         "x": [
          "2023-02-01T00:00:56+01:00",
          "2023-02-01T00:15:56+01:00",
          "2023-02-01T00:30:56+01:00",
          "2023-02-01T00:45:56+01:00",
          "2023-02-01T01:00:56+01:00",
          "2023-02-01T01:15:56+01:00",
          "2023-02-01T01:30:56+01:00",
          "2023-02-01T01:45:56+01:00",
          "2023-02-01T02:00:56+01:00",
          "2023-02-01T02:15:56+01:00",
          "2023-02-01T02:30:56+01:00",
          "2023-02-01T02:45:56+01:00",
          "2023-02-01T03:00:56+01:00",
          "2023-02-01T03:15:56+01:00",
          "2023-02-01T03:30:56+01:00",
          "2023-02-01T03:45:56+01:00",
          "2023-02-01T04:00:56+01:00",
          "2023-02-01T04:15:56+01:00",
          "2023-02-01T04:30:56+01:00",
          "2023-02-01T04:45:56+01:00",
          "2023-02-01T05:00:56+01:00",
          "2023-02-01T05:15:56+01:00",
          "2023-02-01T05:30:56+01:00",
          "2023-02-01T05:45:56+01:00",
          "2023-02-01T06:00:56+01:00",
          "2023-02-01T06:15:56+01:00",
          "2023-02-01T06:30:56+01:00",
          "2023-02-01T06:45:56+01:00",
          "2023-02-01T07:00:56+01:00",
          "2023-02-01T07:15:56+01:00",
          "2023-02-01T07:30:56+01:00",
          "2023-02-01T07:45:56+01:00",
          "2023-02-01T08:00:56+01:00",
          "2023-02-01T08:15:56+01:00",
          "2023-02-01T08:30:56+01:00",
          "2023-02-01T08:45:56+01:00",
          "2023-02-01T09:00:56+01:00",
          "2023-02-01T09:15:56+01:00",
          "2023-02-01T09:30:56+01:00",
          "2023-02-01T09:45:56+01:00",
          "2023-02-01T10:00:56+01:00",
          "2023-02-01T10:15:56+01:00",
          "2023-02-01T10:30:56+01:00",
          "2023-02-01T10:45:56+01:00",
          "2023-02-01T11:00:56+01:00",
          "2023-02-01T11:15:56+01:00",
          "2023-02-01T11:30:56+01:00",
          "2023-02-01T11:45:56+01:00",
          "2023-02-01T12:00:56+01:00",
          "2023-02-01T12:15:56+01:00",
          "2023-02-01T12:30:56+01:00",
          "2023-02-01T12:45:56+01:00",
          "2023-02-01T13:00:56+01:00",
          "2023-02-01T13:15:56+01:00",
          "2023-02-01T13:30:56+01:00",
          "2023-02-01T13:45:56+01:00",
          "2023-02-01T14:00:56+01:00",
          "2023-02-01T14:15:56+01:00",
          "2023-02-01T14:30:56+01:00",
          "2023-02-01T14:45:56+01:00",
          "2023-02-01T15:00:56+01:00",
          "2023-02-01T15:15:56+01:00",
          "2023-02-01T15:30:56+01:00",
          "2023-02-01T15:45:56+01:00",
          "2023-02-01T16:00:56+01:00",
          "2023-02-01T16:15:56+01:00",
          "2023-02-01T16:30:56+01:00",
          "2023-02-01T16:45:56+01:00",
          "2023-02-01T17:00:56+01:00",
          "2023-02-01T17:15:56+01:00",
          "2023-02-01T17:30:56+01:00",
          "2023-02-01T17:45:56+01:00",
          "2023-02-01T18:00:56+01:00",
          "2023-02-01T18:15:56+01:00",
          "2023-02-01T18:30:56+01:00",
          "2023-02-01T18:45:56+01:00",
          "2023-02-01T19:00:56+01:00",
          "2023-02-01T19:15:56+01:00",
          "2023-02-01T19:30:56+01:00",
          "2023-02-01T19:45:56+01:00",
          "2023-02-01T20:00:56+01:00",
          "2023-02-01T20:15:56+01:00",
          "2023-02-01T20:30:56+01:00",
          "2023-02-01T20:45:56+01:00",
          "2023-02-01T21:00:56+01:00",
          "2023-02-01T21:15:56+01:00",
          "2023-02-01T21:30:56+01:00",
          "2023-02-01T21:45:56+01:00",
          "2023-02-01T22:00:56+01:00",
          "2023-02-01T22:15:56+01:00",
          "2023-02-01T22:30:56+01:00",
          "2023-02-01T22:45:56+01:00",
          "2023-02-01T23:00:56+01:00",
          "2023-02-01T23:15:56+01:00",
          "2023-02-01T23:30:56+01:00",
          "2023-02-01T23:45:56+01:00"
         ],
         "xaxis": "x",
         "y": [
          12,
          12,
          13,
          14,
          15,
          15,
          15,
          15,
          15,
          15,
          15,
          15,
          15,
          15,
          15,
          15,
          15,
          15,
          15,
          15,
          15,
          15,
          15,
          15,
          15,
          15,
          16,
          16,
          15,
          15,
          14,
          13,
          14,
          16,
          17,
          17,
          17,
          16,
          16,
          15,
          16,
          16,
          14,
          14,
          14,
          14,
          13,
          13,
          12,
          12,
          12,
          12,
          11,
          14,
          15,
          15,
          18,
          18,
          17,
          18,
          17,
          17,
          17,
          17,
          17,
          17,
          15,
          16,
          16,
          15,
          15,
          15,
          14,
          13,
          17,
          17,
          19,
          20,
          19,
          19,
          18,
          19,
          20,
          20,
          20,
          20,
          21,
          18,
          21,
          21,
          21,
          21,
          21,
          21,
          21,
          21
         ],
         "yaxis": "y"
        },
        {
         "hovertemplate": "n° de station=10002<br>heure=%{x}<br>vélos disponibles=%{y}<extra></extra>",
         "legendgroup": "10002",
         "line": {
          "color": "pink",
          "dash": "solid"
         },
         "marker": {
          "symbol": "circle"
         },
         "mode": "lines",
         "name": "10002",
         "orientation": "v",
         "showlegend": true,
         "type": "scatter",
         "x": [
          "2023-02-01T00:06:44+01:00",
          "2023-02-01T00:21:44+01:00",
          "2023-02-01T00:36:44+01:00",
          "2023-02-01T00:51:44+01:00",
          "2023-02-01T01:06:44+01:00",
          "2023-02-01T01:21:44+01:00",
          "2023-02-01T01:36:44+01:00",
          "2023-02-01T01:51:44+01:00",
          "2023-02-01T02:06:44+01:00",
          "2023-02-01T02:21:44+01:00",
          "2023-02-01T02:36:44+01:00",
          "2023-02-01T02:51:44+01:00",
          "2023-02-01T03:06:44+01:00",
          "2023-02-01T03:21:44+01:00",
          "2023-02-01T03:36:44+01:00",
          "2023-02-01T03:51:44+01:00",
          "2023-02-01T04:06:44+01:00",
          "2023-02-01T04:21:44+01:00",
          "2023-02-01T04:36:44+01:00",
          "2023-02-01T04:51:44+01:00",
          "2023-02-01T05:06:44+01:00",
          "2023-02-01T05:21:44+01:00",
          "2023-02-01T05:36:44+01:00",
          "2023-02-01T05:51:44+01:00",
          "2023-02-01T06:06:44+01:00",
          "2023-02-01T06:21:44+01:00",
          "2023-02-01T06:36:44+01:00",
          "2023-02-01T06:51:44+01:00",
          "2023-02-01T07:06:44+01:00",
          "2023-02-01T07:21:44+01:00",
          "2023-02-01T07:36:44+01:00",
          "2023-02-01T07:51:44+01:00",
          "2023-02-01T08:06:44+01:00",
          "2023-02-01T08:21:44+01:00",
          "2023-02-01T08:36:44+01:00",
          "2023-02-01T08:51:44+01:00",
          "2023-02-01T09:06:44+01:00",
          "2023-02-01T09:21:44+01:00",
          "2023-02-01T09:36:44+01:00",
          "2023-02-01T09:51:44+01:00",
          "2023-02-01T10:06:44+01:00",
          "2023-02-01T10:21:44+01:00",
          "2023-02-01T10:36:44+01:00",
          "2023-02-01T10:51:44+01:00",
          "2023-02-01T11:06:44+01:00",
          "2023-02-01T11:21:44+01:00",
          "2023-02-01T11:36:44+01:00",
          "2023-02-01T11:51:44+01:00",
          "2023-02-01T12:06:44+01:00",
          "2023-02-01T12:21:44+01:00",
          "2023-02-01T12:36:44+01:00",
          "2023-02-01T12:51:44+01:00",
          "2023-02-01T13:06:44+01:00",
          "2023-02-01T13:21:44+01:00",
          "2023-02-01T13:36:44+01:00",
          "2023-02-01T13:51:44+01:00",
          "2023-02-01T14:06:44+01:00",
          "2023-02-01T14:21:44+01:00",
          "2023-02-01T14:36:44+01:00",
          "2023-02-01T14:51:44+01:00",
          "2023-02-01T15:06:44+01:00",
          "2023-02-01T15:21:44+01:00",
          "2023-02-01T15:36:44+01:00",
          "2023-02-01T15:51:44+01:00",
          "2023-02-01T16:06:44+01:00",
          "2023-02-01T16:21:44+01:00",
          "2023-02-01T16:36:44+01:00",
          "2023-02-01T16:51:44+01:00",
          "2023-02-01T17:06:44+01:00",
          "2023-02-01T17:21:44+01:00",
          "2023-02-01T17:36:44+01:00",
          "2023-02-01T17:51:44+01:00",
          "2023-02-01T18:06:44+01:00",
          "2023-02-01T18:21:44+01:00",
          "2023-02-01T18:36:44+01:00",
          "2023-02-01T18:51:44+01:00",
          "2023-02-01T19:06:44+01:00",
          "2023-02-01T19:21:44+01:00",
          "2023-02-01T19:36:44+01:00",
          "2023-02-01T19:51:44+01:00",
          "2023-02-01T20:06:44+01:00",
          "2023-02-01T20:21:44+01:00",
          "2023-02-01T20:36:44+01:00",
          "2023-02-01T20:51:44+01:00",
          "2023-02-01T21:06:44+01:00",
          "2023-02-01T21:21:44+01:00",
          "2023-02-01T21:36:44+01:00",
          "2023-02-01T21:51:44+01:00",
          "2023-02-01T22:06:44+01:00",
          "2023-02-01T22:21:44+01:00",
          "2023-02-01T22:36:44+01:00",
          "2023-02-01T22:51:44+01:00",
          "2023-02-01T23:06:44+01:00",
          "2023-02-01T23:21:44+01:00",
          "2023-02-01T23:36:44+01:00",
          "2023-02-01T23:51:44+01:00"
         ],
         "xaxis": "x",
         "y": [
          9,
          8,
          8,
          6,
          6,
          6,
          8,
          8,
          8,
          9,
          9,
          9,
          10,
          10,
          9,
          9,
          9,
          9,
          9,
          9,
          9,
          8,
          8,
          8,
          10,
          10,
          10,
          8,
          8,
          7,
          12,
          29,
          41,
          48,
          50,
          54,
          57,
          60,
          59,
          61,
          61,
          59,
          59,
          58,
          57,
          57,
          52,
          48,
          43,
          38,
          36,
          36,
          37,
          31,
          33,
          38,
          45,
          42,
          43,
          42,
          42,
          39,
          37,
          35,
          33,
          29,
          25,
          19,
          18,
          10,
          8,
          5,
          1,
          1,
          0,
          0,
          1,
          2,
          2,
          7,
          4,
          4,
          1,
          1,
          0,
          0,
          2,
          2,
          2,
          4,
          2,
          3,
          4,
          6,
          6,
          6
         ],
         "yaxis": "y"
        },
        {
         "hovertemplate": "n° de station=10018<br>heure=%{x}<br>vélos disponibles=%{y}<extra></extra>",
         "legendgroup": "10018",
         "line": {
          "color": "green",
          "dash": "solid"
         },
         "marker": {
          "symbol": "circle"
         },
         "mode": "lines",
         "name": "10018",
         "orientation": "v",
         "showlegend": true,
         "type": "scatter",
         "x": [
          "2023-02-01T00:02:35+01:00",
          "2023-02-01T00:17:35+01:00",
          "2023-02-01T00:32:35+01:00",
          "2023-02-01T00:47:35+01:00",
          "2023-02-01T01:02:35+01:00",
          "2023-02-01T01:17:35+01:00",
          "2023-02-01T01:32:35+01:00",
          "2023-02-01T01:47:35+01:00",
          "2023-02-01T02:02:35+01:00",
          "2023-02-01T02:17:35+01:00",
          "2023-02-01T02:32:35+01:00",
          "2023-02-01T02:47:35+01:00",
          "2023-02-01T03:02:35+01:00",
          "2023-02-01T03:17:35+01:00",
          "2023-02-01T03:32:35+01:00",
          "2023-02-01T03:47:35+01:00",
          "2023-02-01T04:02:35+01:00",
          "2023-02-01T04:17:35+01:00",
          "2023-02-01T04:32:35+01:00",
          "2023-02-01T04:47:35+01:00",
          "2023-02-01T05:02:35+01:00",
          "2023-02-01T05:17:35+01:00",
          "2023-02-01T05:32:35+01:00",
          "2023-02-01T05:47:35+01:00",
          "2023-02-01T06:02:35+01:00",
          "2023-02-01T06:17:35+01:00",
          "2023-02-01T06:32:35+01:00",
          "2023-02-01T06:47:35+01:00",
          "2023-02-01T07:02:35+01:00",
          "2023-02-01T07:17:35+01:00",
          "2023-02-01T07:32:35+01:00",
          "2023-02-01T07:47:35+01:00",
          "2023-02-01T08:02:35+01:00",
          "2023-02-01T08:17:35+01:00",
          "2023-02-01T08:32:35+01:00",
          "2023-02-01T08:47:35+01:00",
          "2023-02-01T09:02:35+01:00",
          "2023-02-01T09:17:35+01:00",
          "2023-02-01T09:32:35+01:00",
          "2023-02-01T09:47:35+01:00",
          "2023-02-01T10:02:35+01:00",
          "2023-02-01T10:17:35+01:00",
          "2023-02-01T10:32:35+01:00",
          "2023-02-01T10:47:35+01:00",
          "2023-02-01T11:02:35+01:00",
          "2023-02-01T11:17:35+01:00",
          "2023-02-01T11:32:35+01:00",
          "2023-02-01T11:47:35+01:00",
          "2023-02-01T12:02:35+01:00",
          "2023-02-01T12:17:35+01:00",
          "2023-02-01T12:32:35+01:00",
          "2023-02-01T12:47:35+01:00",
          "2023-02-01T13:02:35+01:00",
          "2023-02-01T13:17:35+01:00",
          "2023-02-01T13:32:35+01:00",
          "2023-02-01T13:47:35+01:00",
          "2023-02-01T14:02:35+01:00",
          "2023-02-01T14:17:35+01:00",
          "2023-02-01T14:32:35+01:00",
          "2023-02-01T14:47:35+01:00",
          "2023-02-01T15:02:35+01:00",
          "2023-02-01T15:17:35+01:00",
          "2023-02-01T15:32:35+01:00",
          "2023-02-01T15:47:35+01:00",
          "2023-02-01T16:02:35+01:00",
          "2023-02-01T16:17:35+01:00",
          "2023-02-01T16:32:35+01:00",
          "2023-02-01T16:47:35+01:00",
          "2023-02-01T17:02:35+01:00",
          "2023-02-01T17:17:35+01:00",
          "2023-02-01T17:32:35+01:00",
          "2023-02-01T17:47:35+01:00",
          "2023-02-01T18:02:35+01:00",
          "2023-02-01T18:17:35+01:00",
          "2023-02-01T18:32:35+01:00",
          "2023-02-01T18:47:35+01:00",
          "2023-02-01T19:02:35+01:00",
          "2023-02-01T19:17:35+01:00",
          "2023-02-01T19:32:35+01:00",
          "2023-02-01T19:47:35+01:00",
          "2023-02-01T20:02:35+01:00",
          "2023-02-01T20:17:35+01:00",
          "2023-02-01T20:32:35+01:00",
          "2023-02-01T20:47:35+01:00",
          "2023-02-01T21:02:35+01:00",
          "2023-02-01T21:17:35+01:00",
          "2023-02-01T21:32:35+01:00",
          "2023-02-01T21:47:35+01:00",
          "2023-02-01T22:02:35+01:00",
          "2023-02-01T22:17:35+01:00",
          "2023-02-01T22:32:35+01:00",
          "2023-02-01T22:47:35+01:00",
          "2023-02-01T23:02:35+01:00",
          "2023-02-01T23:17:35+01:00",
          "2023-02-01T23:32:35+01:00",
          "2023-02-01T23:47:35+01:00"
         ],
         "xaxis": "x",
         "y": [
          20,
          20,
          20,
          20,
          20,
          20,
          20,
          20,
          20,
          20,
          20,
          20,
          20,
          20,
          20,
          20,
          20,
          20,
          20,
          19,
          19,
          19,
          19,
          19,
          19,
          19,
          19,
          19,
          19,
          18,
          17,
          14,
          11,
          10,
          11,
          8,
          5,
          5,
          4,
          0,
          0,
          1,
          2,
          2,
          2,
          0,
          2,
          3,
          3,
          7,
          6,
          5,
          7,
          8,
          6,
          7,
          7,
          7,
          7,
          6,
          5,
          5,
          6,
          5,
          6,
          6,
          9,
          10,
          9,
          11,
          13,
          14,
          20,
          21,
          19,
          20,
          21,
          20,
          18,
          19,
          17,
          21,
          19,
          18,
          18,
          18,
          18,
          19,
          20,
          20,
          21,
          21,
          20,
          19,
          19,
          19
         ],
         "yaxis": "y"
        }
       ],
       "layout": {
        "legend": {
         "title": {
          "text": "n° de station"
         },
         "tracegroupgap": 0
        },
        "template": {
         "data": {
          "bar": [
           {
            "error_x": {
             "color": "#2a3f5f"
            },
            "error_y": {
             "color": "#2a3f5f"
            },
            "marker": {
             "line": {
              "color": "#E5ECF6",
              "width": 0.5
             },
             "pattern": {
              "fillmode": "overlay",
              "size": 10,
              "solidity": 0.2
             }
            },
            "type": "bar"
           }
          ],
          "barpolar": [
           {
            "marker": {
             "line": {
              "color": "#E5ECF6",
              "width": 0.5
             },
             "pattern": {
              "fillmode": "overlay",
              "size": 10,
              "solidity": 0.2
             }
            },
            "type": "barpolar"
           }
          ],
          "carpet": [
           {
            "aaxis": {
             "endlinecolor": "#2a3f5f",
             "gridcolor": "white",
             "linecolor": "white",
             "minorgridcolor": "white",
             "startlinecolor": "#2a3f5f"
            },
            "baxis": {
             "endlinecolor": "#2a3f5f",
             "gridcolor": "white",
             "linecolor": "white",
             "minorgridcolor": "white",
             "startlinecolor": "#2a3f5f"
            },
            "type": "carpet"
           }
          ],
          "choropleth": [
           {
            "colorbar": {
             "outlinewidth": 0,
             "ticks": ""
            },
            "type": "choropleth"
           }
          ],
          "contour": [
           {
            "colorbar": {
             "outlinewidth": 0,
             "ticks": ""
            },
            "colorscale": [
             [
              0,
              "#0d0887"
             ],
             [
              0.1111111111111111,
              "#46039f"
             ],
             [
              0.2222222222222222,
              "#7201a8"
             ],
             [
              0.3333333333333333,
              "#9c179e"
             ],
             [
              0.4444444444444444,
              "#bd3786"
             ],
             [
              0.5555555555555556,
              "#d8576b"
             ],
             [
              0.6666666666666666,
              "#ed7953"
             ],
             [
              0.7777777777777778,
              "#fb9f3a"
             ],
             [
              0.8888888888888888,
              "#fdca26"
             ],
             [
              1,
              "#f0f921"
             ]
            ],
            "type": "contour"
           }
          ],
          "contourcarpet": [
           {
            "colorbar": {
             "outlinewidth": 0,
             "ticks": ""
            },
            "type": "contourcarpet"
           }
          ],
          "heatmap": [
           {
            "colorbar": {
             "outlinewidth": 0,
             "ticks": ""
            },
            "colorscale": [
             [
              0,
              "#0d0887"
             ],
             [
              0.1111111111111111,
              "#46039f"
             ],
             [
              0.2222222222222222,
              "#7201a8"
             ],
             [
              0.3333333333333333,
              "#9c179e"
             ],
             [
              0.4444444444444444,
              "#bd3786"
             ],
             [
              0.5555555555555556,
              "#d8576b"
             ],
             [
              0.6666666666666666,
              "#ed7953"
             ],
             [
              0.7777777777777778,
              "#fb9f3a"
             ],
             [
              0.8888888888888888,
              "#fdca26"
             ],
             [
              1,
              "#f0f921"
             ]
            ],
            "type": "heatmap"
           }
          ],
          "heatmapgl": [
           {
            "colorbar": {
             "outlinewidth": 0,
             "ticks": ""
            },
            "colorscale": [
             [
              0,
              "#0d0887"
             ],
             [
              0.1111111111111111,
              "#46039f"
             ],
             [
              0.2222222222222222,
              "#7201a8"
             ],
             [
              0.3333333333333333,
              "#9c179e"
             ],
             [
              0.4444444444444444,
              "#bd3786"
             ],
             [
              0.5555555555555556,
              "#d8576b"
             ],
             [
              0.6666666666666666,
              "#ed7953"
             ],
             [
              0.7777777777777778,
              "#fb9f3a"
             ],
             [
              0.8888888888888888,
              "#fdca26"
             ],
             [
              1,
              "#f0f921"
             ]
            ],
            "type": "heatmapgl"
           }
          ],
          "histogram": [
           {
            "marker": {
             "pattern": {
              "fillmode": "overlay",
              "size": 10,
              "solidity": 0.2
             }
            },
            "type": "histogram"
           }
          ],
          "histogram2d": [
           {
            "colorbar": {
             "outlinewidth": 0,
             "ticks": ""
            },
            "colorscale": [
             [
              0,
              "#0d0887"
             ],
             [
              0.1111111111111111,
              "#46039f"
             ],
             [
              0.2222222222222222,
              "#7201a8"
             ],
             [
              0.3333333333333333,
              "#9c179e"
             ],
             [
              0.4444444444444444,
              "#bd3786"
             ],
             [
              0.5555555555555556,
              "#d8576b"
             ],
             [
              0.6666666666666666,
              "#ed7953"
             ],
             [
              0.7777777777777778,
              "#fb9f3a"
             ],
             [
              0.8888888888888888,
              "#fdca26"
             ],
             [
              1,
              "#f0f921"
             ]
            ],
            "type": "histogram2d"
           }
          ],
          "histogram2dcontour": [
           {
            "colorbar": {
             "outlinewidth": 0,
             "ticks": ""
            },
            "colorscale": [
             [
              0,
              "#0d0887"
             ],
             [
              0.1111111111111111,
              "#46039f"
             ],
             [
              0.2222222222222222,
              "#7201a8"
             ],
             [
              0.3333333333333333,
              "#9c179e"
             ],
             [
              0.4444444444444444,
              "#bd3786"
             ],
             [
              0.5555555555555556,
              "#d8576b"
             ],
             [
              0.6666666666666666,
              "#ed7953"
             ],
             [
              0.7777777777777778,
              "#fb9f3a"
             ],
             [
              0.8888888888888888,
              "#fdca26"
             ],
             [
              1,
              "#f0f921"
             ]
            ],
            "type": "histogram2dcontour"
           }
          ],
          "mesh3d": [
           {
            "colorbar": {
             "outlinewidth": 0,
             "ticks": ""
            },
            "type": "mesh3d"
           }
          ],
          "parcoords": [
           {
            "line": {
             "colorbar": {
              "outlinewidth": 0,
              "ticks": ""
             }
            },
            "type": "parcoords"
           }
          ],
          "pie": [
           {
            "automargin": true,
            "type": "pie"
           }
          ],
          "scatter": [
           {
            "fillpattern": {
             "fillmode": "overlay",
             "size": 10,
             "solidity": 0.2
            },
            "type": "scatter"
           }
          ],
          "scatter3d": [
           {
            "line": {
             "colorbar": {
              "outlinewidth": 0,
              "ticks": ""
             }
            },
            "marker": {
             "colorbar": {
              "outlinewidth": 0,
              "ticks": ""
             }
            },
            "type": "scatter3d"
           }
          ],
          "scattercarpet": [
           {
            "marker": {
             "colorbar": {
              "outlinewidth": 0,
              "ticks": ""
             }
            },
            "type": "scattercarpet"
           }
          ],
          "scattergeo": [
           {
            "marker": {
             "colorbar": {
              "outlinewidth": 0,
              "ticks": ""
             }
            },
            "type": "scattergeo"
           }
          ],
          "scattergl": [
           {
            "marker": {
             "colorbar": {
              "outlinewidth": 0,
              "ticks": ""
             }
            },
            "type": "scattergl"
           }
          ],
          "scattermapbox": [
           {
            "marker": {
             "colorbar": {
              "outlinewidth": 0,
              "ticks": ""
             }
            },
            "type": "scattermapbox"
           }
          ],
          "scatterpolar": [
           {
            "marker": {
             "colorbar": {
              "outlinewidth": 0,
              "ticks": ""
             }
            },
            "type": "scatterpolar"
           }
          ],
          "scatterpolargl": [
           {
            "marker": {
             "colorbar": {
              "outlinewidth": 0,
              "ticks": ""
             }
            },
            "type": "scatterpolargl"
           }
          ],
          "scatterternary": [
           {
            "marker": {
             "colorbar": {
              "outlinewidth": 0,
              "ticks": ""
             }
            },
            "type": "scatterternary"
           }
          ],
          "surface": [
           {
            "colorbar": {
             "outlinewidth": 0,
             "ticks": ""
            },
            "colorscale": [
             [
              0,
              "#0d0887"
             ],
             [
              0.1111111111111111,
              "#46039f"
             ],
             [
              0.2222222222222222,
              "#7201a8"
             ],
             [
              0.3333333333333333,
              "#9c179e"
             ],
             [
              0.4444444444444444,
              "#bd3786"
             ],
             [
              0.5555555555555556,
              "#d8576b"
             ],
             [
              0.6666666666666666,
              "#ed7953"
             ],
             [
              0.7777777777777778,
              "#fb9f3a"
             ],
             [
              0.8888888888888888,
              "#fdca26"
             ],
             [
              1,
              "#f0f921"
             ]
            ],
            "type": "surface"
           }
          ],
          "table": [
           {
            "cells": {
             "fill": {
              "color": "#EBF0F8"
             },
             "line": {
              "color": "white"
             }
            },
            "header": {
             "fill": {
              "color": "#C8D4E3"
             },
             "line": {
              "color": "white"
             }
            },
            "type": "table"
           }
          ]
         },
         "layout": {
          "annotationdefaults": {
           "arrowcolor": "#2a3f5f",
           "arrowhead": 0,
           "arrowwidth": 1
          },
          "autotypenumbers": "strict",
          "coloraxis": {
           "colorbar": {
            "outlinewidth": 0,
            "ticks": ""
           }
          },
          "colorscale": {
           "diverging": [
            [
             0,
             "#8e0152"
            ],
            [
             0.1,
             "#c51b7d"
            ],
            [
             0.2,
             "#de77ae"
            ],
            [
             0.3,
             "#f1b6da"
            ],
            [
             0.4,
             "#fde0ef"
            ],
            [
             0.5,
             "#f7f7f7"
            ],
            [
             0.6,
             "#e6f5d0"
            ],
            [
             0.7,
             "#b8e186"
            ],
            [
             0.8,
             "#7fbc41"
            ],
            [
             0.9,
             "#4d9221"
            ],
            [
             1,
             "#276419"
            ]
           ],
           "sequential": [
            [
             0,
             "#0d0887"
            ],
            [
             0.1111111111111111,
             "#46039f"
            ],
            [
             0.2222222222222222,
             "#7201a8"
            ],
            [
             0.3333333333333333,
             "#9c179e"
            ],
            [
             0.4444444444444444,
             "#bd3786"
            ],
            [
             0.5555555555555556,
             "#d8576b"
            ],
            [
             0.6666666666666666,
             "#ed7953"
            ],
            [
             0.7777777777777778,
             "#fb9f3a"
            ],
            [
             0.8888888888888888,
             "#fdca26"
            ],
            [
             1,
             "#f0f921"
            ]
           ],
           "sequentialminus": [
            [
             0,
             "#0d0887"
            ],
            [
             0.1111111111111111,
             "#46039f"
            ],
            [
             0.2222222222222222,
             "#7201a8"
            ],
            [
             0.3333333333333333,
             "#9c179e"
            ],
            [
             0.4444444444444444,
             "#bd3786"
            ],
            [
             0.5555555555555556,
             "#d8576b"
            ],
            [
             0.6666666666666666,
             "#ed7953"
            ],
            [
             0.7777777777777778,
             "#fb9f3a"
            ],
            [
             0.8888888888888888,
             "#fdca26"
            ],
            [
             1,
             "#f0f921"
            ]
           ]
          },
          "colorway": [
           "#636efa",
           "#EF553B",
           "#00cc96",
           "#ab63fa",
           "#FFA15A",
           "#19d3f3",
           "#FF6692",
           "#B6E880",
           "#FF97FF",
           "#FECB52"
          ],
          "font": {
           "color": "#2a3f5f"
          },
          "geo": {
           "bgcolor": "white",
           "lakecolor": "white",
           "landcolor": "#E5ECF6",
           "showlakes": true,
           "showland": true,
           "subunitcolor": "white"
          },
          "hoverlabel": {
           "align": "left"
          },
          "hovermode": "closest",
          "mapbox": {
           "style": "light"
          },
          "paper_bgcolor": "white",
          "plot_bgcolor": "#E5ECF6",
          "polar": {
           "angularaxis": {
            "gridcolor": "white",
            "linecolor": "white",
            "ticks": ""
           },
           "bgcolor": "#E5ECF6",
           "radialaxis": {
            "gridcolor": "white",
            "linecolor": "white",
            "ticks": ""
           }
          },
          "scene": {
           "xaxis": {
            "backgroundcolor": "#E5ECF6",
            "gridcolor": "white",
            "gridwidth": 2,
            "linecolor": "white",
            "showbackground": true,
            "ticks": "",
            "zerolinecolor": "white"
           },
           "yaxis": {
            "backgroundcolor": "#E5ECF6",
            "gridcolor": "white",
            "gridwidth": 2,
            "linecolor": "white",
            "showbackground": true,
            "ticks": "",
            "zerolinecolor": "white"
           },
           "zaxis": {
            "backgroundcolor": "#E5ECF6",
            "gridcolor": "white",
            "gridwidth": 2,
            "linecolor": "white",
            "showbackground": true,
            "ticks": "",
            "zerolinecolor": "white"
           }
          },
          "shapedefaults": {
           "line": {
            "color": "#2a3f5f"
           }
          },
          "ternary": {
           "aaxis": {
            "gridcolor": "white",
            "linecolor": "white",
            "ticks": ""
           },
           "baxis": {
            "gridcolor": "white",
            "linecolor": "white",
            "ticks": ""
           },
           "bgcolor": "#E5ECF6",
           "caxis": {
            "gridcolor": "white",
            "linecolor": "white",
            "ticks": ""
           }
          },
          "title": {
           "x": 0.05
          },
          "xaxis": {
           "automargin": true,
           "gridcolor": "white",
           "linecolor": "white",
           "ticks": "",
           "title": {
            "standoff": 15
           },
           "zerolinecolor": "white",
           "zerolinewidth": 2
          },
          "yaxis": {
           "automargin": true,
           "gridcolor": "white",
           "linecolor": "white",
           "ticks": "",
           "title": {
            "standoff": 15
           },
           "zerolinecolor": "white",
           "zerolinewidth": 2
          }
         }
        },
        "title": {
         "text": "Quantité de vélos disponibles dans les stations"
        },
        "xaxis": {
         "anchor": "y",
         "domain": [
          0,
          1
         ],
         "title": {
          "text": "heure"
         }
        },
        "yaxis": {
         "anchor": "x",
         "domain": [
          0,
          1
         ],
         "title": {
          "text": "vélos disponibles"
         }
        }
       }
      }
     },
     "metadata": {},
     "output_type": "display_data"
    }
   ],
   "source": [
    "fig2 = px.line(premierfevrier[(premierfevrier[\"number\"]== 10018) |\n",
    "                             (premierfevrier[\"number\"]== 10002)| \n",
    "                             (premierfevrier[\"number\"]== 8004)],\n",
    "              x=\"horodate\",\n",
    "              y=\"availabilities.all.types\",\n",
    "              color='number',\n",
    "              color_discrete_sequence= [\"grey\", \"pink\", \"green\"], \n",
    "              labels={\"horodate\" : \"heure\", \"availabilities.all.types\" : \"vélos disponibles\", \"number\" : \"n° de station\"}, \n",
    "              title=\"Quantité de vélos disponibles dans les stations\")\n",
    "fig2.show()"
   ]
  },
  {
   "cell_type": "code",
   "execution_count": null,
   "metadata": {},
   "outputs": [
    {
     "data": {
      "text/plain": [
       "429"
      ]
     },
     "metadata": {},
     "output_type": "display_data"
    }
   ],
   "source": [
    "# Nombre de stations en service \n",
    "premierfevrier[\"number\"].nunique()"
   ]
  },
  {
   "cell_type": "code",
   "execution_count": null,
   "metadata": {},
   "outputs": [
    {
     "data": {
      "text/plain": [
       "429"
      ]
     },
     "metadata": {},
     "output_type": "display_data"
    }
   ],
   "source": [
    "# même chose \n",
    "premierfevrier[\"number\"].unique().size"
   ]
  },
  {
   "cell_type": "code",
   "execution_count": null,
   "metadata": {},
   "outputs": [],
   "source": [
    "capacite_stations = premierfevrier[[\"number\", \"capacity\"]].drop_duplicates()"
   ]
  },
  {
   "cell_type": "code",
   "execution_count": null,
   "metadata": {},
   "outputs": [
    {
     "data": {
      "text/html": [
       "<div>\n",
       "<style scoped>\n",
       "    .dataframe tbody tr th:only-of-type {\n",
       "        vertical-align: middle;\n",
       "    }\n",
       "\n",
       "    .dataframe tbody tr th {\n",
       "        vertical-align: top;\n",
       "    }\n",
       "\n",
       "    .dataframe thead th {\n",
       "        text-align: right;\n",
       "    }\n",
       "</style>\n",
       "<table border=\"1\" class=\"dataframe\">\n",
       "  <thead>\n",
       "    <tr style=\"text-align: right;\">\n",
       "      <th></th>\n",
       "      <th>number</th>\n",
       "      <th>capacity</th>\n",
       "    </tr>\n",
       "  </thead>\n",
       "  <tbody>\n",
       "    <tr>\n",
       "      <th>0</th>\n",
       "      <td>555</td>\n",
       "      <td>5</td>\n",
       "    </tr>\n",
       "    <tr>\n",
       "      <th>96</th>\n",
       "      <td>1001</td>\n",
       "      <td>16</td>\n",
       "    </tr>\n",
       "    <tr>\n",
       "      <th>191</th>\n",
       "      <td>1002</td>\n",
       "      <td>41</td>\n",
       "    </tr>\n",
       "    <tr>\n",
       "      <th>287</th>\n",
       "      <td>1003</td>\n",
       "      <td>22</td>\n",
       "    </tr>\n",
       "    <tr>\n",
       "      <th>383</th>\n",
       "      <td>1005</td>\n",
       "      <td>16</td>\n",
       "    </tr>\n",
       "    <tr>\n",
       "      <th>...</th>\n",
       "      <td>...</td>\n",
       "      <td>...</td>\n",
       "    </tr>\n",
       "    <tr>\n",
       "      <th>40665</th>\n",
       "      <td>30002</td>\n",
       "      <td>18</td>\n",
       "    </tr>\n",
       "    <tr>\n",
       "      <th>40761</th>\n",
       "      <td>32001</td>\n",
       "      <td>17</td>\n",
       "    </tr>\n",
       "    <tr>\n",
       "      <th>40857</th>\n",
       "      <td>33001</td>\n",
       "      <td>18</td>\n",
       "    </tr>\n",
       "    <tr>\n",
       "      <th>40953</th>\n",
       "      <td>34001</td>\n",
       "      <td>20</td>\n",
       "    </tr>\n",
       "    <tr>\n",
       "      <th>41049</th>\n",
       "      <td>34002</td>\n",
       "      <td>15</td>\n",
       "    </tr>\n",
       "  </tbody>\n",
       "</table>\n",
       "<p>429 rows × 2 columns</p>\n",
       "</div>"
      ],
      "text/plain": [
       "       number  capacity\n",
       "0         555         5\n",
       "96       1001        16\n",
       "191      1002        41\n",
       "287      1003        22\n",
       "383      1005        16\n",
       "...       ...       ...\n",
       "40665   30002        18\n",
       "40761   32001        17\n",
       "40857   33001        18\n",
       "40953   34001        20\n",
       "41049   34002        15\n",
       "\n",
       "[429 rows x 2 columns]"
      ]
     },
     "metadata": {},
     "output_type": "display_data"
    }
   ],
   "source": [
    "capacite_stations"
   ]
  },
  {
   "cell_type": "code",
   "execution_count": null,
   "metadata": {},
   "outputs": [
    {
     "data": {
      "application/vnd.plotly.v1+json": {
       "config": {
        "plotlyServerURL": "https://plot.ly"
       },
       "data": [
        {
         "alignmentgroup": "True",
         "bingroup": "x",
         "hovertemplate": "capacite maximale=%{x}<br>count=%{y}<extra></extra>",
         "legendgroup": "",
         "marker": {
          "color": "#DE3163",
          "pattern": {
           "shape": ""
          }
         },
         "name": "",
         "nbinsx": 12,
         "offsetgroup": "",
         "orientation": "v",
         "showlegend": false,
         "texttemplate": "%{value}",
         "type": "histogram",
         "x": [
          5,
          16,
          41,
          22,
          16,
          22,
          26,
          11,
          17,
          18,
          11,
          36,
          20,
          17,
          20,
          22,
          16,
          16,
          17,
          20,
          18,
          40,
          10,
          18,
          32,
          24,
          37,
          40,
          26,
          22,
          14,
          16,
          22,
          26,
          27,
          12,
          25,
          50,
          20,
          20,
          30,
          30,
          18,
          25,
          10,
          28,
          20,
          16,
          32,
          23,
          30,
          40,
          24,
          17,
          23,
          21,
          30,
          27,
          26,
          23,
          32,
          18,
          22,
          34,
          59,
          25,
          21,
          32,
          18,
          37,
          30,
          39,
          20,
          19,
          38,
          13,
          30,
          24,
          35,
          21,
          20,
          19,
          35,
          16,
          19,
          20,
          13,
          13,
          19,
          19,
          15,
          28,
          30,
          30,
          20,
          16,
          30,
          28,
          28,
          18,
          28,
          16,
          16,
          20,
          16,
          24,
          20,
          20,
          38,
          40,
          18,
          17,
          20,
          16,
          18,
          19,
          22,
          20,
          17,
          22,
          12,
          23,
          18,
          20,
          14,
          20,
          30,
          13,
          17,
          10,
          21,
          22,
          25,
          20,
          20,
          18,
          16,
          23,
          18,
          39,
          23,
          17,
          16,
          20,
          16,
          19,
          13,
          14,
          20,
          32,
          20,
          12,
          15,
          20,
          21,
          18,
          16,
          12,
          18,
          18,
          22,
          16,
          40,
          20,
          20,
          20,
          15,
          27,
          20,
          23,
          10,
          16,
          30,
          15,
          11,
          20,
          14,
          10,
          30,
          16,
          13,
          20,
          15,
          21,
          23,
          27,
          20,
          15,
          22,
          28,
          32,
          16,
          15,
          20,
          39,
          40,
          30,
          20,
          40,
          20,
          10,
          16,
          19,
          15,
          16,
          20,
          30,
          12,
          15,
          25,
          28,
          25,
          30,
          25,
          28,
          20,
          20,
          32,
          26,
          12,
          30,
          15,
          21,
          20,
          20,
          30,
          20,
          33,
          31,
          40,
          25,
          13,
          10,
          12,
          16,
          22,
          34,
          20,
          19,
          17,
          36,
          20,
          16,
          21,
          20,
          15,
          17,
          20,
          20,
          14,
          16,
          22,
          16,
          23,
          12,
          17,
          20,
          16,
          20,
          13,
          20,
          19,
          20,
          20,
          24,
          20,
          22,
          18,
          20,
          16,
          16,
          20,
          20,
          18,
          20,
          16,
          15,
          17,
          18,
          27,
          16,
          22,
          16,
          16,
          15,
          19,
          19,
          20,
          30,
          30,
          12,
          13,
          15,
          18,
          40,
          12,
          18,
          19,
          20,
          16,
          24,
          16,
          12,
          12,
          12,
          30,
          115,
          10,
          35,
          46,
          20,
          24,
          16,
          16,
          20,
          28,
          18,
          17,
          21,
          30,
          19,
          25,
          23,
          16,
          26,
          24,
          18,
          22,
          13,
          18,
          16,
          21,
          23,
          16,
          16,
          20,
          25,
          20,
          23,
          15,
          27,
          30,
          24,
          15,
          95,
          22,
          13,
          15,
          17,
          34,
          15,
          15,
          23,
          25,
          19,
          12,
          20,
          17,
          15,
          30,
          10,
          12,
          19,
          15,
          16,
          17,
          94,
          30,
          30,
          24,
          20,
          32,
          22,
          20,
          22,
          16,
          22,
          22,
          12,
          15,
          16,
          21,
          12,
          13,
          16,
          20,
          20,
          15,
          25,
          25,
          20,
          15,
          30,
          20,
          20,
          13,
          25,
          23,
          30,
          20,
          20,
          20,
          18,
          25,
          25,
          25,
          27,
          11,
          18,
          15,
          12,
          40,
          18,
          24,
          24,
          15,
          12,
          12,
          12,
          17,
          24,
          20,
          20,
          12,
          18,
          17,
          18,
          20,
          15
         ],
         "xaxis": "x",
         "yaxis": "y"
        }
       ],
       "layout": {
        "bargap": 0.1,
        "barmode": "group",
        "legend": {
         "tracegroupgap": 0
        },
        "template": {
         "data": {
          "bar": [
           {
            "error_x": {
             "color": "#2a3f5f"
            },
            "error_y": {
             "color": "#2a3f5f"
            },
            "marker": {
             "line": {
              "color": "#E5ECF6",
              "width": 0.5
             },
             "pattern": {
              "fillmode": "overlay",
              "size": 10,
              "solidity": 0.2
             }
            },
            "type": "bar"
           }
          ],
          "barpolar": [
           {
            "marker": {
             "line": {
              "color": "#E5ECF6",
              "width": 0.5
             },
             "pattern": {
              "fillmode": "overlay",
              "size": 10,
              "solidity": 0.2
             }
            },
            "type": "barpolar"
           }
          ],
          "carpet": [
           {
            "aaxis": {
             "endlinecolor": "#2a3f5f",
             "gridcolor": "white",
             "linecolor": "white",
             "minorgridcolor": "white",
             "startlinecolor": "#2a3f5f"
            },
            "baxis": {
             "endlinecolor": "#2a3f5f",
             "gridcolor": "white",
             "linecolor": "white",
             "minorgridcolor": "white",
             "startlinecolor": "#2a3f5f"
            },
            "type": "carpet"
           }
          ],
          "choropleth": [
           {
            "colorbar": {
             "outlinewidth": 0,
             "ticks": ""
            },
            "type": "choropleth"
           }
          ],
          "contour": [
           {
            "colorbar": {
             "outlinewidth": 0,
             "ticks": ""
            },
            "colorscale": [
             [
              0,
              "#0d0887"
             ],
             [
              0.1111111111111111,
              "#46039f"
             ],
             [
              0.2222222222222222,
              "#7201a8"
             ],
             [
              0.3333333333333333,
              "#9c179e"
             ],
             [
              0.4444444444444444,
              "#bd3786"
             ],
             [
              0.5555555555555556,
              "#d8576b"
             ],
             [
              0.6666666666666666,
              "#ed7953"
             ],
             [
              0.7777777777777778,
              "#fb9f3a"
             ],
             [
              0.8888888888888888,
              "#fdca26"
             ],
             [
              1,
              "#f0f921"
             ]
            ],
            "type": "contour"
           }
          ],
          "contourcarpet": [
           {
            "colorbar": {
             "outlinewidth": 0,
             "ticks": ""
            },
            "type": "contourcarpet"
           }
          ],
          "heatmap": [
           {
            "colorbar": {
             "outlinewidth": 0,
             "ticks": ""
            },
            "colorscale": [
             [
              0,
              "#0d0887"
             ],
             [
              0.1111111111111111,
              "#46039f"
             ],
             [
              0.2222222222222222,
              "#7201a8"
             ],
             [
              0.3333333333333333,
              "#9c179e"
             ],
             [
              0.4444444444444444,
              "#bd3786"
             ],
             [
              0.5555555555555556,
              "#d8576b"
             ],
             [
              0.6666666666666666,
              "#ed7953"
             ],
             [
              0.7777777777777778,
              "#fb9f3a"
             ],
             [
              0.8888888888888888,
              "#fdca26"
             ],
             [
              1,
              "#f0f921"
             ]
            ],
            "type": "heatmap"
           }
          ],
          "heatmapgl": [
           {
            "colorbar": {
             "outlinewidth": 0,
             "ticks": ""
            },
            "colorscale": [
             [
              0,
              "#0d0887"
             ],
             [
              0.1111111111111111,
              "#46039f"
             ],
             [
              0.2222222222222222,
              "#7201a8"
             ],
             [
              0.3333333333333333,
              "#9c179e"
             ],
             [
              0.4444444444444444,
              "#bd3786"
             ],
             [
              0.5555555555555556,
              "#d8576b"
             ],
             [
              0.6666666666666666,
              "#ed7953"
             ],
             [
              0.7777777777777778,
              "#fb9f3a"
             ],
             [
              0.8888888888888888,
              "#fdca26"
             ],
             [
              1,
              "#f0f921"
             ]
            ],
            "type": "heatmapgl"
           }
          ],
          "histogram": [
           {
            "marker": {
             "pattern": {
              "fillmode": "overlay",
              "size": 10,
              "solidity": 0.2
             }
            },
            "type": "histogram"
           }
          ],
          "histogram2d": [
           {
            "colorbar": {
             "outlinewidth": 0,
             "ticks": ""
            },
            "colorscale": [
             [
              0,
              "#0d0887"
             ],
             [
              0.1111111111111111,
              "#46039f"
             ],
             [
              0.2222222222222222,
              "#7201a8"
             ],
             [
              0.3333333333333333,
              "#9c179e"
             ],
             [
              0.4444444444444444,
              "#bd3786"
             ],
             [
              0.5555555555555556,
              "#d8576b"
             ],
             [
              0.6666666666666666,
              "#ed7953"
             ],
             [
              0.7777777777777778,
              "#fb9f3a"
             ],
             [
              0.8888888888888888,
              "#fdca26"
             ],
             [
              1,
              "#f0f921"
             ]
            ],
            "type": "histogram2d"
           }
          ],
          "histogram2dcontour": [
           {
            "colorbar": {
             "outlinewidth": 0,
             "ticks": ""
            },
            "colorscale": [
             [
              0,
              "#0d0887"
             ],
             [
              0.1111111111111111,
              "#46039f"
             ],
             [
              0.2222222222222222,
              "#7201a8"
             ],
             [
              0.3333333333333333,
              "#9c179e"
             ],
             [
              0.4444444444444444,
              "#bd3786"
             ],
             [
              0.5555555555555556,
              "#d8576b"
             ],
             [
              0.6666666666666666,
              "#ed7953"
             ],
             [
              0.7777777777777778,
              "#fb9f3a"
             ],
             [
              0.8888888888888888,
              "#fdca26"
             ],
             [
              1,
              "#f0f921"
             ]
            ],
            "type": "histogram2dcontour"
           }
          ],
          "mesh3d": [
           {
            "colorbar": {
             "outlinewidth": 0,
             "ticks": ""
            },
            "type": "mesh3d"
           }
          ],
          "parcoords": [
           {
            "line": {
             "colorbar": {
              "outlinewidth": 0,
              "ticks": ""
             }
            },
            "type": "parcoords"
           }
          ],
          "pie": [
           {
            "automargin": true,
            "type": "pie"
           }
          ],
          "scatter": [
           {
            "fillpattern": {
             "fillmode": "overlay",
             "size": 10,
             "solidity": 0.2
            },
            "type": "scatter"
           }
          ],
          "scatter3d": [
           {
            "line": {
             "colorbar": {
              "outlinewidth": 0,
              "ticks": ""
             }
            },
            "marker": {
             "colorbar": {
              "outlinewidth": 0,
              "ticks": ""
             }
            },
            "type": "scatter3d"
           }
          ],
          "scattercarpet": [
           {
            "marker": {
             "colorbar": {
              "outlinewidth": 0,
              "ticks": ""
             }
            },
            "type": "scattercarpet"
           }
          ],
          "scattergeo": [
           {
            "marker": {
             "colorbar": {
              "outlinewidth": 0,
              "ticks": ""
             }
            },
            "type": "scattergeo"
           }
          ],
          "scattergl": [
           {
            "marker": {
             "colorbar": {
              "outlinewidth": 0,
              "ticks": ""
             }
            },
            "type": "scattergl"
           }
          ],
          "scattermapbox": [
           {
            "marker": {
             "colorbar": {
              "outlinewidth": 0,
              "ticks": ""
             }
            },
            "type": "scattermapbox"
           }
          ],
          "scatterpolar": [
           {
            "marker": {
             "colorbar": {
              "outlinewidth": 0,
              "ticks": ""
             }
            },
            "type": "scatterpolar"
           }
          ],
          "scatterpolargl": [
           {
            "marker": {
             "colorbar": {
              "outlinewidth": 0,
              "ticks": ""
             }
            },
            "type": "scatterpolargl"
           }
          ],
          "scatterternary": [
           {
            "marker": {
             "colorbar": {
              "outlinewidth": 0,
              "ticks": ""
             }
            },
            "type": "scatterternary"
           }
          ],
          "surface": [
           {
            "colorbar": {
             "outlinewidth": 0,
             "ticks": ""
            },
            "colorscale": [
             [
              0,
              "#0d0887"
             ],
             [
              0.1111111111111111,
              "#46039f"
             ],
             [
              0.2222222222222222,
              "#7201a8"
             ],
             [
              0.3333333333333333,
              "#9c179e"
             ],
             [
              0.4444444444444444,
              "#bd3786"
             ],
             [
              0.5555555555555556,
              "#d8576b"
             ],
             [
              0.6666666666666666,
              "#ed7953"
             ],
             [
              0.7777777777777778,
              "#fb9f3a"
             ],
             [
              0.8888888888888888,
              "#fdca26"
             ],
             [
              1,
              "#f0f921"
             ]
            ],
            "type": "surface"
           }
          ],
          "table": [
           {
            "cells": {
             "fill": {
              "color": "#EBF0F8"
             },
             "line": {
              "color": "white"
             }
            },
            "header": {
             "fill": {
              "color": "#C8D4E3"
             },
             "line": {
              "color": "white"
             }
            },
            "type": "table"
           }
          ]
         },
         "layout": {
          "annotationdefaults": {
           "arrowcolor": "#2a3f5f",
           "arrowhead": 0,
           "arrowwidth": 1
          },
          "autotypenumbers": "strict",
          "coloraxis": {
           "colorbar": {
            "outlinewidth": 0,
            "ticks": ""
           }
          },
          "colorscale": {
           "diverging": [
            [
             0,
             "#8e0152"
            ],
            [
             0.1,
             "#c51b7d"
            ],
            [
             0.2,
             "#de77ae"
            ],
            [
             0.3,
             "#f1b6da"
            ],
            [
             0.4,
             "#fde0ef"
            ],
            [
             0.5,
             "#f7f7f7"
            ],
            [
             0.6,
             "#e6f5d0"
            ],
            [
             0.7,
             "#b8e186"
            ],
            [
             0.8,
             "#7fbc41"
            ],
            [
             0.9,
             "#4d9221"
            ],
            [
             1,
             "#276419"
            ]
           ],
           "sequential": [
            [
             0,
             "#0d0887"
            ],
            [
             0.1111111111111111,
             "#46039f"
            ],
            [
             0.2222222222222222,
             "#7201a8"
            ],
            [
             0.3333333333333333,
             "#9c179e"
            ],
            [
             0.4444444444444444,
             "#bd3786"
            ],
            [
             0.5555555555555556,
             "#d8576b"
            ],
            [
             0.6666666666666666,
             "#ed7953"
            ],
            [
             0.7777777777777778,
             "#fb9f3a"
            ],
            [
             0.8888888888888888,
             "#fdca26"
            ],
            [
             1,
             "#f0f921"
            ]
           ],
           "sequentialminus": [
            [
             0,
             "#0d0887"
            ],
            [
             0.1111111111111111,
             "#46039f"
            ],
            [
             0.2222222222222222,
             "#7201a8"
            ],
            [
             0.3333333333333333,
             "#9c179e"
            ],
            [
             0.4444444444444444,
             "#bd3786"
            ],
            [
             0.5555555555555556,
             "#d8576b"
            ],
            [
             0.6666666666666666,
             "#ed7953"
            ],
            [
             0.7777777777777778,
             "#fb9f3a"
            ],
            [
             0.8888888888888888,
             "#fdca26"
            ],
            [
             1,
             "#f0f921"
            ]
           ]
          },
          "colorway": [
           "#636efa",
           "#EF553B",
           "#00cc96",
           "#ab63fa",
           "#FFA15A",
           "#19d3f3",
           "#FF6692",
           "#B6E880",
           "#FF97FF",
           "#FECB52"
          ],
          "font": {
           "color": "#2a3f5f"
          },
          "geo": {
           "bgcolor": "white",
           "lakecolor": "white",
           "landcolor": "#E5ECF6",
           "showlakes": true,
           "showland": true,
           "subunitcolor": "white"
          },
          "hoverlabel": {
           "align": "left"
          },
          "hovermode": "closest",
          "mapbox": {
           "style": "light"
          },
          "paper_bgcolor": "white",
          "plot_bgcolor": "#E5ECF6",
          "polar": {
           "angularaxis": {
            "gridcolor": "white",
            "linecolor": "white",
            "ticks": ""
           },
           "bgcolor": "#E5ECF6",
           "radialaxis": {
            "gridcolor": "white",
            "linecolor": "white",
            "ticks": ""
           }
          },
          "scene": {
           "xaxis": {
            "backgroundcolor": "#E5ECF6",
            "gridcolor": "white",
            "gridwidth": 2,
            "linecolor": "white",
            "showbackground": true,
            "ticks": "",
            "zerolinecolor": "white"
           },
           "yaxis": {
            "backgroundcolor": "#E5ECF6",
            "gridcolor": "white",
            "gridwidth": 2,
            "linecolor": "white",
            "showbackground": true,
            "ticks": "",
            "zerolinecolor": "white"
           },
           "zaxis": {
            "backgroundcolor": "#E5ECF6",
            "gridcolor": "white",
            "gridwidth": 2,
            "linecolor": "white",
            "showbackground": true,
            "ticks": "",
            "zerolinecolor": "white"
           }
          },
          "shapedefaults": {
           "line": {
            "color": "#2a3f5f"
           }
          },
          "ternary": {
           "aaxis": {
            "gridcolor": "white",
            "linecolor": "white",
            "ticks": ""
           },
           "baxis": {
            "gridcolor": "white",
            "linecolor": "white",
            "ticks": ""
           },
           "bgcolor": "#E5ECF6",
           "caxis": {
            "gridcolor": "white",
            "linecolor": "white",
            "ticks": ""
           }
          },
          "title": {
           "x": 0.05
          },
          "xaxis": {
           "automargin": true,
           "gridcolor": "white",
           "linecolor": "white",
           "ticks": "",
           "title": {
            "standoff": 15
           },
           "zerolinecolor": "white",
           "zerolinewidth": 2
          },
          "yaxis": {
           "automargin": true,
           "gridcolor": "white",
           "linecolor": "white",
           "ticks": "",
           "title": {
            "standoff": 15
           },
           "zerolinecolor": "white",
           "zerolinewidth": 2
          }
         }
        },
        "title": {
         "text": "Répartition des tailles des stations velov lyonnaises"
        },
        "xaxis": {
         "anchor": "y",
         "domain": [
          0,
          1
         ],
         "title": {
          "text": "capacite maximale"
         }
        },
        "yaxis": {
         "anchor": "x",
         "domain": [
          0,
          1
         ],
         "title": {
          "text": "nombre de stations"
         }
        }
       }
      }
     },
     "metadata": {},
     "output_type": "display_data"
    }
   ],
   "source": [
    "fig3 = px.histogram(capacite_stations, title=\"Répartition des stations velov lyonnaises selon leur capacité maximale\", x=\"capacity\", text_auto=True, barmode=\"group\", color_discrete_sequence=['#DE3163'], nbins=12, labels={\"capacity\" : \"capacite maximale\"})\n",
    "fig3.update_layout(bargap=0.1)\n",
    "fig3.update_yaxes(title_text=\"nombre de stations\")\n",
    "fig3.show()"
   ]
  }
 ],
 "metadata": {
  "language_info": {
   "name": "python"
  },
  "orig_nbformat": 4
 },
 "nbformat": 4,
 "nbformat_minor": 2
}
